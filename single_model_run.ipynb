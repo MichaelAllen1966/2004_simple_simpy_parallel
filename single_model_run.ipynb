{
 "cells": [
  {
   "cell_type": "markdown",
   "metadata": {},
   "source": [
    "# A simple object-based hospital bed model\n",
    "\n",
    "This model mimics the arrival of patients at a hospital with a finite bed supply. Patients are priority 1-3. If the hospital is full beds are allocated by patient priority (first-in-first-out within a priority)."
   ]
  },
  {
   "cell_type": "markdown",
   "metadata": {},
   "source": [
    "The model is divided into the following classes:\n",
    "\n",
    "* *Scenario*: Class for an object that stores all model paraemters. Any of these may be changed by the user.\n",
    "* *Model*: Class for a SimPy model object. It initiates the SimPy model, sets up a hospital object, and creates patient objects which it passes to the hospital. There is an end_run_routine which summarises results.\n",
    "* *Hospital*: A class for hospital objects. Has a given number of beds. The hospital class allocates beds to patients on a priority basis. It holds the queue for patients waiting for beds, and lists (by patient priority) of queue times each patient has waited for a bed. It has an audit method which monitors the number of patients in beds or waiting for beds each day.\n",
    "* *Patient*: A class for patient objects. Each patient has a givem priority and length of stay. The patient objects stores the times that patient started waiting for a bed, when they were allocated a bed, and when they left the hospital.\n",
    "\n",
    "The sequence of calls is:\n",
    "\n",
    "1. The code below sets up a `Scenario` object which holds the model parameters (and which may be changed in the user input below).\n",
    "1. The code below then sets up a `Model` object, passing it the Scenario.\n",
    "1. The `Model` object sets up a `SimPy` environment and a `Hospital` object. It initiates processes which generate `Patient` objects (from within the `Model`), and which audit patients in beds or waiting for beds (in the `Hospital`). `Patients`, as they are generated, are passed to the `Hospital` for allocation to beds.\n",
    "1. At the end of the run, the `Model` summaries statistics for patients waiting for beds, or in beds, and for queue times by patient priority.\n"
   ]
  },
  {
   "cell_type": "markdown",
   "metadata": {},
   "source": [
    "## Import modules\n",
    "\n",
    "The necessary modules are held in the `sim_classes` package directory."
   ]
  },
  {
   "cell_type": "code",
   "execution_count": 1,
   "metadata": {},
   "outputs": [],
   "source": [
    "from sim_classes.model import Model\n",
    "from sim_classes.parameters import Scenario"
   ]
  },
  {
   "cell_type": "markdown",
   "metadata": {},
   "source": [
    "## Run with default sceneario\n",
    "\n",
    "If no paramters are defined in the sceanrio, the default paramters, as found in the Scenario class (in ./sim_classes_parameters)."
   ]
  },
  {
   "cell_type": "code",
   "execution_count": 2,
   "metadata": {},
   "outputs": [
    {
     "name": "stdout",
     "output_type": "stream",
     "text": [
      "Bed and queue numbers\n",
      "\n",
      "              min  median    max\n",
      "in_bed      181.0   200.0  200.0\n",
      "waiting_p1    0.0     0.0    3.0\n",
      "waiting_p2    0.0     1.0   11.0\n",
      "waiting_p3    0.0    22.5   36.0\n",
      "\n",
      "Queue times\n",
      "\n",
      "   min     median       max\n",
      "P1   0  0.0519113  0.394693\n",
      "P2   0  0.0942936   1.54886\n",
      "P3   0    3.55038   6.54956\n"
     ]
    }
   ],
   "source": [
    "scenario = Scenario()\n",
    "\n",
    "model = Model(scenario)\n",
    "model.run()\n",
    "\n",
    "# Print results\n",
    "print ('Bed and queue numbers\\n')\n",
    "print (model.results_audit)\n",
    "print ('\\nQueue times\\n')\n",
    "print (model.results_qtime)"
   ]
  },
  {
   "cell_type": "markdown",
   "metadata": {},
   "source": [
    "## An alterantive scenario\n",
    "\n",
    "We can pass model parameters to the model as named arguments."
   ]
  },
  {
   "cell_type": "code",
   "execution_count": 3,
   "metadata": {},
   "outputs": [
    {
     "name": "stdout",
     "output_type": "stream",
     "text": [
      "Bed and queue numbers\n",
      "\n",
      "             min  median    max\n",
      "in_bed      75.0   100.0  100.0\n",
      "waiting_p1   0.0     0.0    6.0\n",
      "waiting_p2   0.0     0.0   11.0\n",
      "waiting_p3   0.0     2.0   45.0\n",
      "\n",
      "Queue times\n",
      "\n",
      "   min     median      max\n",
      "P1   0  0.0187461  1.13879\n",
      "P2   0  0.0545921  2.36966\n",
      "P3   0    0.36476  10.9799\n"
     ]
    }
   ],
   "source": [
    "scenario = Scenario(interarrival_time=0.103,\n",
    "                    hospital_beds=100,\n",
    "                    run_duration=365)\n",
    "\n",
    "model = Model(scenario)\n",
    "model.run()\n",
    "\n",
    "# Print results\n",
    "print ('Bed and queue numbers\\n')\n",
    "print (model.results_audit)\n",
    "print ('\\nQueue times\\n')\n",
    "print (model.results_qtime)"
   ]
  },
  {
   "cell_type": "markdown",
   "metadata": {},
   "source": [
    "Or we can pass model parameters to the model as a dictionary."
   ]
  },
  {
   "cell_type": "code",
   "execution_count": 4,
   "metadata": {},
   "outputs": [
    {
     "name": "stdout",
     "output_type": "stream",
     "text": [
      "Bed and queue numbers\n",
      "\n",
      "             min  median    max\n",
      "in_bed      78.0   100.0  100.0\n",
      "waiting_p1   0.0     0.0    5.0\n",
      "waiting_p2   0.0     0.0   16.0\n",
      "waiting_p3   0.0     5.0   41.0\n",
      "\n",
      "Queue times\n",
      "\n",
      "   min     median       max\n",
      "P1   0  0.0512106  0.859838\n",
      "P2   0   0.126227   3.19953\n",
      "P3   0    1.92772   11.8055\n"
     ]
    }
   ],
   "source": [
    "my_parameters = {\n",
    "    'interarrival_time': 0.103, \n",
    "    'hospital_beds': 100,\n",
    "    'run_duration': 365\n",
    "            }\n",
    "\n",
    "scenario = Scenario(my_parameters)\n",
    "\n",
    "model = Model(scenario)\n",
    "model.run()\n",
    "\n",
    "# Print results\n",
    "print ('Bed and queue numbers\\n')\n",
    "print (model.results_audit)\n",
    "print ('\\nQueue times\\n')\n",
    "print (model.results_qtime)"
   ]
  }
 ],
 "metadata": {
  "kernelspec": {
   "display_name": "Python 3",
   "language": "python",
   "name": "python3"
  },
  "language_info": {
   "codemirror_mode": {
    "name": "ipython",
    "version": 3
   },
   "file_extension": ".py",
   "mimetype": "text/x-python",
   "name": "python",
   "nbconvert_exporter": "python",
   "pygments_lexer": "ipython3",
   "version": "3.7.6"
  }
 },
 "nbformat": 4,
 "nbformat_minor": 4
}
