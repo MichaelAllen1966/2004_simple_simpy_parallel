{
 "cells": [
  {
   "cell_type": "markdown",
   "metadata": {},
   "source": [
    "# A simple object-based hospital bed model\n",
    "\n",
    "This model mimics the arrival of patients at a hospital with a finite bed supply. Patients are priority 1-3. If the hospital is full beds are allocated by patient priority (first-in-first-out within a priority)."
   ]
  },
  {
   "cell_type": "markdown",
   "metadata": {},
   "source": [
    "The model is divided into the following classes:\n",
    "\n",
    "* *Scenario*: Class for an object that stores all model paraemters. Any of these may be changed by the user.\n",
    "* *Model*: Class for a SimPy model object. It initiates the SimPy model, sets up a hospital object, and creates patient objects which it passes to the hospital. There is an end_run_routine which summarises results.\n",
    "* *Hospital*: A class for hospital objects. Has a given number of beds. The hospital class allocates beds to patients on a priority basis. It holds the queue for patients waiting for beds, and lists (by patient priority) of queue times each patient has waited for a bed. It has an audit method which monitors the number of patients in beds or waiting for beds each day.\n",
    "* *Patient*: A class for patient objects. Each patient has a givem priority and length of stay. The patient objects stores the times that patient started waiting for a bed, when they were allocated a bed, and when they left the hospital.\n",
    "\n",
    "The sequence of calls is:\n",
    "\n",
    "1. The code below sets up a `Scenario` object which holds the model parameters (and which may be changed in the user input below).\n",
    "1. The code below then sets up a `Model` object, passing it the Scenario.\n",
    "1. The `Model` object sets up a `SimPy` environment and a `Hospital` object. It initiates processes which generate `Patient` objects (from within the `Model`), and which audit patients in beds or waiting for beds (in the `Hospital`). `Patients`, as they are generated, are passed to the `Hospital` for allocation to beds.\n",
    "1. At the end of the run, the `Model` summaries statistics for patients waiting for beds, or in beds, and for queue times by patient priority.\n"
   ]
  },
  {
   "cell_type": "markdown",
   "metadata": {},
   "source": [
    "## Import modules\n",
    "\n",
    "The necessary modules are held in the `sim_classes` package directory."
   ]
  },
  {
   "cell_type": "code",
   "execution_count": 1,
   "metadata": {},
   "outputs": [],
   "source": [
    "from sim_classes.model import Model\n",
    "from sim_classes.parameters import Scenario"
   ]
  },
  {
   "cell_type": "markdown",
   "metadata": {},
   "source": [
    "## Run with default sceneario\n",
    "\n",
    "If no paramters are defined in the sceanrio, the default paramters, as found in the Scenario class (in ./sim_classes_parameters)."
   ]
  },
  {
   "cell_type": "code",
   "execution_count": 2,
   "metadata": {},
   "outputs": [
    {
     "name": "stdout",
     "output_type": "stream",
     "text": [
      "Bed and queue numbers\n",
      "\n",
      "              min  median    max\n",
      "in_bed      200.0   200.0  200.0\n",
      "waiting_p1    0.0     0.0    3.0\n",
      "waiting_p2    0.0     1.0   10.0\n",
      "waiting_p3    0.0    25.0   46.0\n",
      "\n",
      "Queue times\n",
      "\n",
      "   min     median       max\n",
      "P1   0  0.0535122  0.380332\n",
      "P2   0   0.153221   1.10515\n",
      "P3   0    3.44671   6.65193\n"
     ]
    }
   ],
   "source": [
    "scenario = Scenario()\n",
    "\n",
    "model = Model(scenario)\n",
    "model.run()\n",
    "\n",
    "# Print results\n",
    "print ('Bed and queue numbers\\n')\n",
    "print (model.results_audit)\n",
    "print ('\\nQueue times\\n')\n",
    "print (model.results_qtime)"
   ]
  },
  {
   "cell_type": "markdown",
   "metadata": {},
   "source": [
    "## An alterantive scenario\n",
    "\n",
    "We can pass model parameters to the model as named arguments."
   ]
  },
  {
   "cell_type": "code",
   "execution_count": 3,
   "metadata": {},
   "outputs": [
    {
     "name": "stdout",
     "output_type": "stream",
     "text": [
      "Bed and queue numbers\n",
      "\n",
      "             min  median    max\n",
      "in_bed      83.0   100.0  100.0\n",
      "waiting_p1   0.0     0.0    5.0\n",
      "waiting_p2   0.0     0.0    8.0\n",
      "waiting_p3   0.0    27.0  100.0\n",
      "\n",
      "Queue times\n",
      "\n",
      "   min     median       max\n",
      "P1   0  0.0886631  0.910345\n",
      "P2   0   0.199564   2.53789\n",
      "P3   0    7.03061   28.2607\n"
     ]
    }
   ],
   "source": [
    "scenario = Scenario(interarrival_time=0.103,\n",
    "                    hospital_beds=100,\n",
    "                    run_duration=365)\n",
    "\n",
    "model = Model(scenario)\n",
    "model.run()\n",
    "\n",
    "# Print results\n",
    "print ('Bed and queue numbers\\n')\n",
    "print (model.results_audit)\n",
    "print ('\\nQueue times\\n')\n",
    "print (model.results_qtime)"
   ]
  },
  {
   "cell_type": "markdown",
   "metadata": {},
   "source": [
    "Or we can pass model parameters to the model as a dictionary."
   ]
  },
  {
   "cell_type": "code",
   "execution_count": 4,
   "metadata": {},
   "outputs": [
    {
     "name": "stdout",
     "output_type": "stream",
     "text": [
      "Bed and queue numbers\n",
      "\n",
      "             min  median    max\n",
      "in_bed      73.0   100.0  100.0\n",
      "waiting_p1   0.0     0.0    4.0\n",
      "waiting_p2   0.0     1.0   11.0\n",
      "waiting_p3   0.0    91.0  132.0\n",
      "\n",
      "Queue times\n",
      "\n",
      "   min     median       max\n",
      "P1   0  0.0963327  0.984266\n",
      "P2   0   0.290234   3.29768\n",
      "P3   0    29.7095   39.0226\n"
     ]
    }
   ],
   "source": [
    "my_parameters = {\n",
    "    'interarrival_time': 0.103, \n",
    "    'hospital_beds': 100,\n",
    "    'run_duration': 365\n",
    "            }\n",
    "\n",
    "scenario = Scenario(my_parameters)\n",
    "\n",
    "model = Model(scenario)\n",
    "model.run()\n",
    "\n",
    "# Print results\n",
    "print ('Bed and queue numbers\\n')\n",
    "print (model.results_audit)\n",
    "print ('\\nQueue times\\n')\n",
    "print (model.results_qtime)"
   ]
  }
 ],
 "metadata": {
  "kernelspec": {
   "display_name": "Python 3",
   "language": "python",
   "name": "python3"
  },
  "language_info": {
   "codemirror_mode": {
    "name": "ipython",
    "version": 3
   },
   "file_extension": ".py",
   "mimetype": "text/x-python",
   "name": "python",
   "nbconvert_exporter": "python",
   "pygments_lexer": "ipython3",
   "version": "3.7.6"
  }
 },
 "nbformat": 4,
 "nbformat_minor": 4
}
