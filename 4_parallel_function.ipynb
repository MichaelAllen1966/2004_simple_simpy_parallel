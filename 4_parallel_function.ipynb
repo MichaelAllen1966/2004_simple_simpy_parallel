{
 "cells": [
  {
   "cell_type": "markdown",
   "metadata": {},
   "source": [
    "# Parallel processing in Python\n",
    "\n",
    "Sometimes we have functions, or complete models, that may be run in parallel across CPU cores. This may save significant time when we have access to computers to multiple cores. Here we use the joblib library to show how we can run functions in parallel (pip install joblib if not already installed).\n"
   ]
  },
  {
   "cell_type": "markdown",
   "metadata": {},
   "source": [
    "## Import libraries"
   ]
  },
  {
   "cell_type": "code",
   "execution_count": 1,
   "metadata": {},
   "outputs": [],
   "source": [
    "import numpy as np\n",
    "import time\n",
    "from joblib import Parallel, delayed"
   ]
  },
  {
   "cell_type": "markdown",
   "metadata": {},
   "source": [
    "## Mimic something to be run in parallel\n",
    "\n",
    "Here we will create a function that takes 2 seconds to run, to mimic a model or a complex function."
   ]
  },
  {
   "cell_type": "code",
   "execution_count": 2,
   "metadata": {},
   "outputs": [],
   "source": [
    "def my_slow_function(x):\n",
    "    \"\"\"A very slow function, which takes 1 second to double a number\"\"\"\n",
    "    \n",
    "    # A 1 second delay\n",
    "    time.sleep (1)\n",
    "    \n",
    "    return x * 2"
   ]
  },
  {
   "cell_type": "markdown",
   "metadata": {},
   "source": [
    "## Running our function sequentially in a 'for' loop"
   ]
  },
  {
   "cell_type": "code",
   "execution_count": 3,
   "metadata": {},
   "outputs": [
    {
     "name": "stdout",
     "output_type": "stream",
     "text": [
      "[0, 2, 4, 6, 8, 10, 12, 14]\n",
      "Time taken: 8.0 seconds\n"
     ]
    }
   ],
   "source": [
    "# Get start time\n",
    "start = time.time()\n",
    "# Run functions 8 times with different input (using a list comprehension)\n",
    "trial_output = [my_slow_function(i) for i in range(8)]\n",
    "print(trial_output)\n",
    "# Get time taken\n",
    "time_taken = time.time() - start\n",
    "# Print time taken\n",
    "print (f'Time taken: {time_taken:.1f} seconds')"
   ]
  },
  {
   "cell_type": "markdown",
   "metadata": {},
   "source": [
    "## Running our function in parallel using joblib\n",
    "\n",
    "`n_jobs` is the maximum number of CPU cores to use. If set to -1, all available cores will be used."
   ]
  },
  {
   "cell_type": "code",
   "execution_count": 4,
   "metadata": {},
   "outputs": [
    {
     "name": "stdout",
     "output_type": "stream",
     "text": [
      "[0, 2, 4, 6, 8, 10, 12, 14]\n",
      "Time taken: 1.3 seconds\n"
     ]
    }
   ],
   "source": [
    "# Get start time\n",
    "start = time.time()\n",
    "# Run functions 8 times with different input using joblib\n",
    "trial_output = \\\n",
    "    Parallel(n_jobs=-1)(delayed(my_slow_function)(i) for i in range(8))\n",
    "print(trial_output)\n",
    "# Get time taken\n",
    "time_taken = time.time() - start\n",
    "# Print time taken\n",
    "print (f'Time taken: {time_taken:.1f} seconds')"
   ]
  },
  {
   "cell_type": "markdown",
   "metadata": {},
   "source": [
    "That's a good improvement in speed!"
   ]
  },
  {
   "cell_type": "markdown",
   "metadata": {},
   "source": [
    "## Checking pseudo-random number generation\n",
    "\n",
    "Pseudo-random number generators, if not provided with a seed, use the computer clock to generate the seed. This means some methods of parallel processing will generate sets of random numbers that may be the same. By default joblib uses the loki backend which prevents this occurring, but let's check."
   ]
  },
  {
   "cell_type": "code",
   "execution_count": 5,
   "metadata": {},
   "outputs": [],
   "source": [
    "def numpy_random():\n",
    "    \"\"\"Generate a random number using NumPy\"\"\"\n",
    "    return np.random.random()"
   ]
  },
  {
   "cell_type": "code",
   "execution_count": 6,
   "metadata": {},
   "outputs": [
    {
     "data": {
      "text/plain": [
       "[0.9900285158563291,\n",
       " 0.8888207329827029,\n",
       " 0.759931211584751,\n",
       " 0.38298041140846817,\n",
       " 0.3600323495222191]"
      ]
     },
     "execution_count": 6,
     "metadata": {},
     "output_type": "execute_result"
    }
   ],
   "source": [
    "Parallel(n_jobs=-1)(delayed(numpy_random)() for i in range(5))"
   ]
  }
 ],
 "metadata": {
  "kernelspec": {
   "display_name": "Python 3",
   "language": "python",
   "name": "python3"
  },
  "language_info": {
   "codemirror_mode": {
    "name": "ipython",
    "version": 3
   },
   "file_extension": ".py",
   "mimetype": "text/x-python",
   "name": "python",
   "nbconvert_exporter": "python",
   "pygments_lexer": "ipython3",
   "version": "3.7.6"
  }
 },
 "nbformat": 4,
 "nbformat_minor": 4
}
