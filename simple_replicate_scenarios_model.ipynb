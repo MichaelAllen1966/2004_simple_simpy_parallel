{
 "cells": [
  {
   "cell_type": "markdown",
   "metadata": {},
   "source": [
    "# An example of running simulation trials and scenarios on multiple CPU cores\n",
    "\n",
    "This is an example of a simple, but object-based, SimPy simulation of hospital demand and queuing for beds (with prioritisation of patients).\n",
    "\n",
    "The model is described in the `single_model_run.ipynb` notebook.\n",
    "\n",
    "This notebook additionally creats a `Replicator` object. This object handles multiple different `Scenarios` (different model paramters) and multiple replicates (a 'trial') for each `Scenario`, using multiple CPU cores for parallel runs of the `Scenario`.\n",
    "\n",
    "After running the requested number of replicates for each sceanrio, the `Replicator` reports the 5th percentile, median, and 95th percentile results for each `Scenario` result."
   ]
  },
  {
   "cell_type": "code",
   "execution_count": 1,
   "metadata": {},
   "outputs": [],
   "source": [
    "from sim_classes.replication import Replicator\n",
    "from sim_classes.parameters import Scenario\n",
    "\n",
    "# Define scenarios as a dictionary\n",
    "scenarios = {}\n",
    "\n",
    "# A scenario with no arguments will use sceanrio defaults\n",
    "scenarios['default'] = Scenario()\n",
    "\n",
    "# A scenario with arguments will overwrite relevant parameters\n",
    "scenarios['low_demand'] = Scenario(interarrival_time=0.07)"
   ]
  },
  {
   "cell_type": "code",
   "execution_count": 2,
   "metadata": {},
   "outputs": [
    {
     "name": "stdout",
     "output_type": "stream",
     "text": [
      "                                                                               \n",
      "Patient results\n",
      "----------------\n",
      "\n",
      "percent_5, median, and percent_95 are spread between trials\n",
      "min, median and max refer to patient counts in each run\n",
      "\n",
      "                       percent_5                 median                \\\n",
      "                             min  median     max    min median    max   \n",
      "result_type name                                                        \n",
      "in_bed      default       161.65  192.45  200.00  191.0  200.0  200.0   \n",
      "            low_demand    118.40  133.45  149.95  123.5  140.5  161.0   \n",
      "waiting_p1  default         0.00    0.00    1.95    0.0    0.0    3.0   \n",
      "            low_demand      0.00    0.00    0.00    0.0    0.0    0.0   \n",
      "waiting_p2  default         0.00    0.00    3.00    0.0    0.0    7.0   \n",
      "            low_demand      0.00    0.00    0.00    0.0    0.0    0.0   \n",
      "waiting_p3  default         0.00    0.00   11.70    0.0    9.5   36.0   \n",
      "            low_demand      0.00    0.00    0.00    0.0    0.0    0.0   \n",
      "\n",
      "                       percent_95                   \n",
      "                              min   median     max  \n",
      "result_type name                                    \n",
      "in_bed      default        199.25  200.000  200.00  \n",
      "            low_demand     126.00  144.125  170.00  \n",
      "waiting_p1  default          0.00    0.000    4.00  \n",
      "            low_demand       0.00    0.000    0.00  \n",
      "waiting_p2  default          0.00    1.000    9.25  \n",
      "            low_demand       0.00    0.000    0.00  \n",
      "waiting_p3  default          1.25   39.000   60.25  \n",
      "            low_demand       0.00    0.000    0.00  \n",
      "\n",
      "\n",
      "\n",
      "Queuing times\n",
      "-------------\n",
      "\n",
      "percent_5, median, and percent_95 are spread between trials\n",
      "min, median and max refer to waiting times in each run\n",
      "\n",
      "                       percent_5                  median                      \\\n",
      "                             min median       max    min    median       max   \n",
      "result_type name                                                               \n",
      "P1          default          0.0    0.0  0.265113    0.0  0.036847  0.360793   \n",
      "            low_demand       0.0    0.0  0.000000    0.0  0.000000  0.000000   \n",
      "P2          default          0.0    0.0  0.457277    0.0  0.096122  1.155791   \n",
      "            low_demand       0.0    0.0  0.000000    0.0  0.000000  0.000000   \n",
      "P3          default          0.0    0.0  2.016836    0.0  1.342180  5.528146   \n",
      "            low_demand       0.0    0.0  0.000000    0.0  0.000000  0.000000   \n",
      "\n",
      "                       percent_95                       \n",
      "                              min    median        max  \n",
      "result_type name                                        \n",
      "P1          default      0.000000  0.050583   0.389140  \n",
      "            low_demand   0.000000  0.000000   0.000000  \n",
      "P2          default      0.000000  0.130732   1.305759  \n",
      "            low_demand   0.000000  0.000000   0.000000  \n",
      "P3          default      0.002759  5.699390  10.116783  \n",
      "            low_demand   0.000000  0.000000   0.000000  \n"
     ]
    }
   ],
   "source": [
    "# Set up and call replicator\n",
    "replications = Replicator(scenarios=scenarios, replications=20)\n",
    "replications.run_scenarios()"
   ]
  }
 ],
 "metadata": {
  "kernelspec": {
   "display_name": "Python 3",
   "language": "python",
   "name": "python3"
  },
  "language_info": {
   "codemirror_mode": {
    "name": "ipython",
    "version": 3
   },
   "file_extension": ".py",
   "mimetype": "text/x-python",
   "name": "python",
   "nbconvert_exporter": "python",
   "pygments_lexer": "ipython3",
   "version": "3.7.6"
  }
 },
 "nbformat": 4,
 "nbformat_minor": 4
}
