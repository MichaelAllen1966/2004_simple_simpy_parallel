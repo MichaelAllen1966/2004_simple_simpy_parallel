{
 "cells": [
  {
   "cell_type": "markdown",
   "metadata": {},
   "source": [
    "# A simple (non-objected-based) SimPy model of an ED unit, with limited resources\n",
    "\n",
    "This model extends `simplest_model_1` to include a limited resource (doctors).\n",
    "\n",
    "To use resource we:\n",
    "\n",
    "* Define SimPy `Resource`. A `PriorityResource` can be used when resources are allocated by priority and not just FIFO (First In First Out).\n",
    "    \n",
    "* Create a resource request, and pass to SimPy with `yield`\n",
    " \n",
    "\n",
    "* `Release` resource when no longer required."
   ]
  },
  {
   "cell_type": "code",
   "execution_count": 1,
   "metadata": {},
   "outputs": [],
   "source": [
    "import random\n",
    "import simpy"
   ]
  },
  {
   "cell_type": "code",
   "execution_count": 2,
   "metadata": {},
   "outputs": [],
   "source": [
    "def generate_patient_arrivals(env, docs):\n",
    "    \"\"\"SimPy process. Continuous loop of patient arrivals every 30 minutes\"\"\"\n",
    "    \n",
    "    # Track patient numbers\n",
    "    patient_count = 0\n",
    "    # Sue a `whie True` loop to operate continuously\n",
    "    while True:\n",
    "        patient_count += 1\n",
    "        env.process(patient_ed_stay(env, patient_count, docs))\n",
    "        # Use SimPy environment timeout for length of wait\n",
    "        yield env.timeout(15)\n",
    "        # Loop repeats after timeout\n",
    "        \n",
    "    \n",
    "def patient_ed_stay(env, id, docs):\n",
    "    \"\"\"A SimPy process for a patient waiting for a doctor and then staying at ED\n",
    "    for 30-120 minutes\"\"\"\n",
    "    \n",
    "    # Get environment time\n",
    "    sim_time = int(env.now)    \n",
    "    print(f'Patient {id} arrives at ED at time {sim_time}')\n",
    "    # Request a doctor resource\n",
    "    req = docs.request()\n",
    "    yield req\n",
    "    # Doctor resource has now been obtained\n",
    "    sim_time = int(env.now)    \n",
    "    print(f'Patient {id} see doctor {sim_time}')\n",
    "    # Get random stay between 30-120 minutes\n",
    "    stay_length = random.uniform(30, 120)\n",
    "    # Use timeout for wait in ED\n",
    "    yield env.timeout(stay_length)\n",
    "    # ED stay complete\n",
    "    sim_time = int(env.now)\n",
    "    print(f'Patient {id} leaves at ED at time {sim_time}')\n",
    "    # Release the doctor resource\n",
    "    docs.release(req)\n",
    "    \n",
    "    return\n",
    "    \n",
    "   \n",
    "def main():\n",
    "    \"\"\"Model run: \n",
    "    1. Set up model environment.\n",
    "    2. Initialise processes needed at model start, \n",
    "    3. Start model with required model duration\"\"\"\n",
    "    \n",
    "    # Set up SimPy environment\n",
    "    env = simpy.Environment()\n",
    "    # Add 2 doctor resources to environemnt\n",
    "    docs = simpy.Resource(env, 2)\n",
    "    # Initialise processes that will run on model run.     \n",
    "    env.process(generate_patient_arrivals(env, docs))\n",
    "    # Start model with required model duration\n",
    "    env.run(until=360)\n",
    "    \n",
    "    return"
   ]
  },
  {
   "cell_type": "code",
   "execution_count": 3,
   "metadata": {},
   "outputs": [
    {
     "name": "stdout",
     "output_type": "stream",
     "text": [
      "Patient 1 arrives at ED at time 0\n",
      "Patient 1 see doctor 0\n",
      "Patient 2 arrives at ED at time 15\n",
      "Patient 2 see doctor 15\n",
      "Patient 3 arrives at ED at time 30\n",
      "Patient 4 arrives at ED at time 45\n",
      "Patient 5 arrives at ED at time 60\n",
      "Patient 2 leaves at ED at time 70\n",
      "Patient 3 see doctor 70\n",
      "Patient 6 arrives at ED at time 75\n",
      "Patient 7 arrives at ED at time 90\n",
      "Patient 1 leaves at ED at time 91\n",
      "Patient 4 see doctor 91\n",
      "Patient 8 arrives at ED at time 105\n",
      "Patient 9 arrives at ED at time 120\n",
      "Patient 3 leaves at ED at time 125\n",
      "Patient 5 see doctor 125\n",
      "Patient 10 arrives at ED at time 135\n",
      "Patient 11 arrives at ED at time 150\n",
      "Patient 4 leaves at ED at time 161\n",
      "Patient 6 see doctor 161\n",
      "Patient 12 arrives at ED at time 165\n",
      "Patient 13 arrives at ED at time 180\n",
      "Patient 14 arrives at ED at time 195\n",
      "Patient 15 arrives at ED at time 210\n",
      "Patient 5 leaves at ED at time 216\n",
      "Patient 7 see doctor 216\n",
      "Patient 6 leaves at ED at time 223\n",
      "Patient 8 see doctor 223\n",
      "Patient 16 arrives at ED at time 225\n",
      "Patient 17 arrives at ED at time 240\n",
      "Patient 18 arrives at ED at time 255\n",
      "Patient 19 arrives at ED at time 270\n",
      "Patient 8 leaves at ED at time 281\n",
      "Patient 9 see doctor 281\n",
      "Patient 20 arrives at ED at time 285\n",
      "Patient 21 arrives at ED at time 300\n",
      "Patient 22 arrives at ED at time 315\n",
      "Patient 9 leaves at ED at time 319\n",
      "Patient 10 see doctor 319\n",
      "Patient 7 leaves at ED at time 322\n",
      "Patient 11 see doctor 322\n",
      "Patient 23 arrives at ED at time 330\n",
      "Patient 24 arrives at ED at time 345\n"
     ]
    }
   ],
   "source": [
    "main()"
   ]
  }
 ],
 "metadata": {
  "kernelspec": {
   "display_name": "Python 3",
   "language": "python",
   "name": "python3"
  },
  "language_info": {
   "codemirror_mode": {
    "name": "ipython",
    "version": 3
   },
   "file_extension": ".py",
   "mimetype": "text/x-python",
   "name": "python",
   "nbconvert_exporter": "python",
   "pygments_lexer": "ipython3",
   "version": "3.7.6"
  }
 },
 "nbformat": 4,
 "nbformat_minor": 4
}
