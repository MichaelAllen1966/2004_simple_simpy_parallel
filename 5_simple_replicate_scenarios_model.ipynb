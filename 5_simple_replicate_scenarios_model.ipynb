{
 "cells": [
  {
   "cell_type": "markdown",
   "metadata": {},
   "source": [
    "# An example of running simulation trials and scenarios on multiple CPU cores\n",
    "\n",
    "This is an example of a simple, but object-based, SimPy simulation of hospital demand and queuing for beds (with prioritisation of patients).\n",
    "\n",
    "The model is described in the `single_model_run.ipynb` notebook.\n",
    "\n",
    "This notebook additionally creats a `Replicator` object. This object handles multiple different `Scenarios` (different model paramters) and multiple replicates (a 'trial') for each `Scenario`, using multiple CPU cores for parallel runs of the `Scenario`.\n",
    "\n",
    "After running the requested number of replicates for each sceanrio, the `Replicator` reports the 5th percentile, median, and 95th percentile results for each `Scenario` result."
   ]
  },
  {
   "cell_type": "code",
   "execution_count": 2,
   "metadata": {},
   "outputs": [],
   "source": [
    "from sim_classes.replication import Replicator\n",
    "from sim_classes.parameters import Scenario\n",
    "\n",
    "# Define scenarios as a dictionary\n",
    "scenarios = {}\n",
    "\n",
    "# A scenario with no arguments will use sceanrio defaults\n",
    "scenarios['default'] = Scenario()\n",
    "\n",
    "# A scenario with arguments will overwrite relevant parameters\n",
    "scenarios['low_demand'] = Scenario(interarrival_time=0.07)"
   ]
  },
  {
   "cell_type": "code",
   "execution_count": 3,
   "metadata": {},
   "outputs": [
    {
     "name": "stdout",
     "output_type": "stream",
     "text": [
      "                                                                               \n",
      "Patient results\n",
      "----------------\n",
      "\n",
      "percent_5, median, and percent_95 are spread between trials\n",
      "min, median and max refer to patient counts in each run\n",
      "\n",
      "                       percent_5                 median                \\\n",
      "                             min  median     max    min median    max   \n",
      "result_type name                                                        \n",
      "in_bed      default       156.90  186.35  200.00  178.5  200.0  200.0   \n",
      "            low_demand    107.95  132.30  147.60  125.5  141.5  160.5   \n",
      "waiting_p1  default         0.00    0.00    0.95    0.0    0.0    3.0   \n",
      "            low_demand      0.00    0.00    0.00    0.0    0.0    0.0   \n",
      "waiting_p2  default         0.00    0.00    1.00    0.0    0.0    6.5   \n",
      "            low_demand      0.00    0.00    0.00    0.0    0.0    0.0   \n",
      "waiting_p3  default         0.00    0.00    6.80    0.0    3.5   29.5   \n",
      "            low_demand      0.00    0.00    0.00    0.0    0.0    0.0   \n",
      "\n",
      "                       percent_95                   \n",
      "                              min   median     max  \n",
      "result_type name                                    \n",
      "in_bed      default        185.25  200.000  200.00  \n",
      "            low_demand     127.25  146.375  170.75  \n",
      "waiting_p1  default          0.00    0.000    4.25  \n",
      "            low_demand       0.00    0.000    0.00  \n",
      "waiting_p2  default          0.00    0.000    8.25  \n",
      "            low_demand       0.00    0.000    0.00  \n",
      "waiting_p3  default          0.00   13.625   46.25  \n",
      "            low_demand       0.00    0.000    0.00  \n",
      "\n",
      "\n",
      "\n",
      "Queuing times\n",
      "-------------\n",
      "\n",
      "percent_5, median, and percent_95 are spread between trials\n",
      "min, median and max refer to waiting times in each run\n",
      "\n",
      "                       percent_5                  median                      \\\n",
      "                             min median       max    min    median       max   \n",
      "result_type name                                                               \n",
      "P1          default          0.0    0.0  0.176807    0.0  0.016391  0.370279   \n",
      "            low_demand       0.0    0.0  0.000000    0.0  0.000000  0.000000   \n",
      "P2          default          0.0    0.0  0.292588    0.0  0.040901  0.919145   \n",
      "            low_demand       0.0    0.0  0.000000    0.0  0.000000  0.000000   \n",
      "P3          default          0.0    0.0  1.059325    0.0  0.632385  5.376662   \n",
      "            low_demand       0.0    0.0  0.000000    0.0  0.000000  0.000000   \n",
      "\n",
      "                       percent_95                      \n",
      "                              min    median       max  \n",
      "result_type name                                       \n",
      "P1          default           0.0  0.034985  0.410060  \n",
      "            low_demand        0.0  0.000000  0.000000  \n",
      "P2          default           0.0  0.088232  1.183152  \n",
      "            low_demand        0.0  0.000000  0.000000  \n",
      "P3          default           0.0  2.295295  7.178952  \n",
      "            low_demand        0.0  0.000000  0.000000  \n"
     ]
    }
   ],
   "source": [
    "# Set up and call replicator\n",
    "replications = Replicator(scenarios=scenarios, replications=20)\n",
    "replications.run_scenarios()"
   ]
  }
 ],
 "metadata": {
  "kernelspec": {
   "display_name": "Python 3",
   "language": "python",
   "name": "python3"
  },
  "language_info": {
   "codemirror_mode": {
    "name": "ipython",
    "version": 3
   },
   "file_extension": ".py",
   "mimetype": "text/x-python",
   "name": "python",
   "nbconvert_exporter": "python",
   "pygments_lexer": "ipython3",
   "version": "3.7.6"
  }
 },
 "nbformat": 4,
 "nbformat_minor": 4
}