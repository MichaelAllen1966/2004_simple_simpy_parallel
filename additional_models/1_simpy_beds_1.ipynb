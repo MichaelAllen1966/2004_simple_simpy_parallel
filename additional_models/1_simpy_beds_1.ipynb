{
 "cells": [
  {
   "cell_type": "markdown",
   "metadata": {},
   "source": [
    "# A bed occupancy model with SimPy\n",
    "\n",
    "SimPy is a process-based discrete-event simulation framework based on standard Python.\n",
    "\n",
    "The purpose of the examples presented here is not to give basic training in Simpy. For that please go to:\n",
    "\n",
    "https://simpy.readthedocs.io/en/latest/contents.html\n",
    "\n",
    "The purpose of the examples here are to show how Simpy may be used for healthcare pathway modelling.\n",
    "\n",
    "We will start with a relatively simple hospital ward bed occupancy model.\n",
    "\n",
    "Patients arrive at a given average rate, with the time between any two patients sampled from an exponential distribution. Length of stay in the hospital is again sampled from an exponential distribution. We assume here that the hospital ward can expand to cope with peaks in demand, and use the model to look at the expected natural variation in ward bed occupancy."
   ]
  },
  {
   "cell_type": "markdown",
   "metadata": {},
   "source": [
    "## Import the packages.\n",
    "\n",
    "IMPORTANT: Simpy is not in the Anaconda environment. To download, open a command line environment and type: \n",
    "\n",
    "pip install simpy"
   ]
  },
  {
   "cell_type": "code",
   "execution_count": 20,
   "metadata": {},
   "outputs": [],
   "source": [
    "import simpy\n",
    "import random\n",
    "import pandas as pd\n",
    "import matplotlib.pyplot as plt\n",
    "\n",
    "# For Jupyter Notebook use only:\n",
    "% matplotlib inline"
   ]
  },
  {
   "cell_type": "markdown",
   "metadata": {},
   "source": [
    "## Storing variables\n",
    "\n",
    "We'll store global variables in a class, g. Variables are then referred to as g.var_name. It is not strictly necessary, but is a convenient way of allowing functions to directly change global variables (well, I like doing it this way anyway!).\n",
    "\n",
    "For those more familiar with object-based programming, you will notice that we just use the class itsled, rather than creating an individual instance of the class."
   ]
  },
  {
   "cell_type": "code",
   "execution_count": 21,
   "metadata": {},
   "outputs": [],
   "source": [
    "class g():\n",
    "    # Global variables\n",
    "    bed_count=0\n",
    "    inter_arrival_time=1\n",
    "    los=10 # length of stay\n",
    "    sim_duration=500\n",
    "    audit_time=[]\n",
    "    audit_beds=[]\n",
    "    audit_interval=1 # bed occupancy is measured at this interval "
   ]
  },
  {
   "cell_type": "markdown",
   "metadata": {},
   "source": [
    "## Generating new arrivals\n",
    "\n",
    "The new arrival function continuously generated new arrivals."
   ]
  },
  {
   "cell_type": "code",
   "execution_count": 22,
   "metadata": {},
   "outputs": [],
   "source": [
    "def new_admission(env,interarrival_time,los):\n",
    "    i=0\n",
    "    while True:\n",
    "        i+=1\n",
    "        p_los=random.expovariate(1/los) # sample length of stay for patient\n",
    "        p=patient(env,i,p_los) # generate a patient\n",
    "        env.process(p) # activate the patient\n",
    "        next_p=random.expovariate(1/interarrival_time) # sample next arrival time\n",
    "        # print('Next patient in %f3.2' %next_p)\n",
    "        yield env.timeout(next_p) # set up next arrival"
   ]
  },
  {
   "cell_type": "markdown",
   "metadata": {},
   "source": [
    "## Patient pathway\n",
    "\n",
    "When a new patient arrives, hospital bed occupancy is increased by one. A delay is then triggered for that patient according to their length of stay. At the end of that time-out the patient leaves and bed occupancy is reduced by one."
   ]
  },
  {
   "cell_type": "code",
   "execution_count": 23,
   "metadata": {},
   "outputs": [],
   "source": [
    "def patient(env,i,p_los):\n",
    "    g.bed_count+=1 # adjust global variable for occupied beds\n",
    "    # print('Patient %d arriving %7.2f, bed count %d' %(i,env.now,g.bed_count))\n",
    "    yield env.timeout(p_los) # set delay according to length of stay\n",
    "    g.bed_count-=1\n",
    "    # print('Patient %d leaving %7.2f, bed count %d' %(i,env.now,g.bed_count))"
   ]
  },
  {
   "cell_type": "markdown",
   "metadata": {},
   "source": [
    "## Audit of beds\n",
    "\n",
    "The audit runs at regular time intervals. Each time it runs, it adds to two global lists - one recording the simulated time, and the other the number of beds currently occupied."
   ]
  },
  {
   "cell_type": "code",
   "execution_count": 24,
   "metadata": {},
   "outputs": [],
   "source": [
    "def audit_beds(env,delay):\n",
    "    yield env.timeout(delay)\n",
    "    while True:\n",
    "        g.audit_time.append(env.now)\n",
    "        g.audit_beds.append(g.bed_count)\n",
    "        yield env.timeout(g.audit_interval)"
   ]
  },
  {
   "cell_type": "markdown",
   "metadata": {},
   "source": [
    "## Generate audit report\n",
    "\n",
    "At the end of the simulation run, an audit report is generated to summarise hospital bed occupancy variation. This may be viewed directly, but is used here in the occupancy chart produced."
   ]
  },
  {
   "cell_type": "code",
   "execution_count": 25,
   "metadata": {},
   "outputs": [],
   "source": [
    "def build_audit_report():\n",
    "    audit_report=pd.DataFrame()\n",
    "    audit_report['Time']=g.audit_time\n",
    "    audit_report['Occupied_beds']=g.audit_beds\n",
    "    audit_report['Median_beds']=audit_report['Occupied_beds'].quantile(0.5)\n",
    "    audit_report['Beds_5_percent']=audit_report['Occupied_beds'].quantile(0.05)\n",
    "    audit_report['Beds_95_percent']=audit_report['Occupied_beds'].quantile(0.95)\n",
    "    return audit_report"
   ]
  },
  {
   "cell_type": "markdown",
   "metadata": {},
   "source": [
    "## Charting occupancy\n",
    "\n",
    "At then end of the run a chart of bed occupancy is produced."
   ]
  },
  {
   "cell_type": "code",
   "execution_count": 26,
   "metadata": {},
   "outputs": [],
   "source": [
    "def chart():\n",
    "    plt.plot(g.audit_dataframe['Time'],\n",
    "             g.audit_dataframe['Occupied_beds'],\n",
    "             color='k',marker='o',linestyle='solid',\n",
    "             markevery=1,label='Occupied beds')\n",
    "    \n",
    "    plt.plot(g.audit_dataframe['Time'],\n",
    "             g.audit_dataframe['Beds_5_percent'],\n",
    "             color='0.5',linestyle='dashdot',\n",
    "             markevery=1,label='5th percentile')\n",
    "    \n",
    "    plt.plot(g.audit_dataframe['Time'],\n",
    "             g.audit_dataframe['Median_beds'],\n",
    "             color='0.5',linestyle='dashed',\n",
    "             label='Median')\n",
    "    \n",
    "    plt.plot(g.audit_dataframe['Time'],\n",
    "             g.audit_dataframe['Beds_95_percent'],\n",
    "             color='0.5',linestyle='dashdot',\n",
    "             label='95th percentile')\n",
    "    \n",
    "    plt.xlabel('Day')\n",
    "    plt.ylabel('Occupied beds') \n",
    "    plt.title('Occupied beds (individual days with 5th, 50th and 95th percentiles)')\n",
    "    #plt.legend()\n",
    "    plt.show()"
   ]
  },
  {
   "cell_type": "markdown",
   "metadata": {},
   "source": [
    "## Main code\n",
    "\n",
    "The main code sets up the simulation environment, and initialises the first admission and the first audit (these then maintain themselves by triggering the next admission/audit). It then starts the simulation environment and sets the run time. At the end of the run functions to summarise and plot occupancy are called."
   ]
  },
  {
   "cell_type": "code",
   "execution_count": 27,
   "metadata": {},
   "outputs": [
    {
     "data": {
      "image/png": "[encoded data removed]",
      "text/plain": [
       "<matplotlib.figure.Figure at 0x7f21ac0ca9b0>"
      ]
     },
     "metadata": {},
     "output_type": "display_data"
    }
   ],
   "source": [
    "# Initialise environment\n",
    "env=simpy.Environment()\n",
    "# Initialise processes (admissions & bed audit)\n",
    "env.process(new_admission(env,g.inter_arrival_time,g.los))\n",
    "env.process(audit_beds(env,delay=20))\n",
    "# Start simulation run\n",
    "env.run(until=g.sim_duration)\n",
    "# Build audit table\n",
    "g.audit_dataframe=build_audit_report()\n",
    "chart()"
   ]
  },
  {
   "cell_type": "code",
   "execution_count": null,
   "metadata": {},
   "outputs": [],
   "source": []
  }
 ],
 "metadata": {
  "kernelspec": {
   "display_name": "Python 3",
   "language": "python",
   "name": "python3"
  },
  "language_info": {
   "codemirror_mode": {
    "name": "ipython",
    "version": 3
   },
   "file_extension": ".py",
   "mimetype": "text/x-python",
   "name": "python",
   "nbconvert_exporter": "python",
   "pygments_lexer": "ipython3",
   "version": "3.6.4"
  }
 },
 "nbformat": 4,
 "nbformat_minor": 2
}
