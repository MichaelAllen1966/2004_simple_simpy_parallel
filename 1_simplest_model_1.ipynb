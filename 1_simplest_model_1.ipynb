{
 "cells": [
  {
   "cell_type": "markdown",
   "metadata": {},
   "source": [
    "# A simple (non-objected-based) SimPy model of an ED unit.\n",
    "\n",
    "The following model shows a very simple SimPy model, and contains the following methods:\n",
    "\n",
    "*generate_patient_arrivals*: A SimPy process that generates patients every 15 minutes.\n",
    "\n",
    "*patient_ed_stay*: A SimPy process for a pateint staying at ED for 30-120 minutes.\n",
    "\n",
    "*main*: Model run. This 1) Sets up model environment, 2) Initialise processes needed at model start, and 3) Start model with required model duration\n",
    "    \n",
    "Note: All SimPy processes must be called with `env.process` in addition to the process function/method name. Handy hint: If you get the error `function_x is not a generator` it may be because you have mised the `()` after the function in the process call (I do this at least once every model build)."
   ]
  },
  {
   "cell_type": "code",
   "execution_count": 1,
   "metadata": {},
   "outputs": [],
   "source": [
    "import random\n",
    "import simpy"
   ]
  },
  {
   "cell_type": "code",
   "execution_count": 2,
   "metadata": {},
   "outputs": [],
   "source": [
    "def generate_patient_arrivals(env):\n",
    "    \"\"\"SimPy process. Continuous loop of patient arrivals every 15 minutes\"\"\"\n",
    "    \n",
    "    # Track patient numbers\n",
    "    patient_count = 0\n",
    "    # Sue a `whie True` loop to operate continuously\n",
    "    while True:\n",
    "        patient_count += 1\n",
    "        env.process(patient_ed_stay(env, patient_count))\n",
    "        # Use SimPy environment timeout for length of wait\n",
    "        yield env.timeout(15)\n",
    "        # Loop repeats after timeout\n",
    "        \n",
    "    \n",
    "def patient_ed_stay(env, id):\n",
    "    \"\"\"A SimPy process for a patient staying at ED for 30-120 minutes\"\"\"\n",
    "    \n",
    "    # Get environment time\n",
    "    sim_time = int(env.now)\n",
    "    print(f'Patient {id} arrives at ED at time {sim_time}')\n",
    "    # Get random stay between 30-120 minutes\n",
    "    stay_length = random.uniform(30, 120)\n",
    "    # Use timeout for wait in ED\n",
    "    yield env.timeout(stay_length)\n",
    "    # ED stay complete\n",
    "    sim_time = int(env.now)\n",
    "    print(f'Patient {id} leaves at ED at time {sim_time}')\n",
    "    \n",
    "    return\n",
    "    \n",
    "   \n",
    "def main():\n",
    "    \"\"\"Model run: \n",
    "    1. Set up model environment.\n",
    "    2. Initialise processes needed at model start, \n",
    "    3. Start model with required model duration\"\"\"\n",
    "    \n",
    "    # Set up SimPy environment\n",
    "    env = simpy.Environment()\n",
    "    # Initialise processes that will run on model run.     \n",
    "    env.process(generate_patient_arrivals(env))\n",
    "    # Start model with required model duration\n",
    "    env.run(until=360)\n",
    "    \n",
    "    return"
   ]
  },
  {
   "cell_type": "code",
   "execution_count": 3,
   "metadata": {},
   "outputs": [
    {
     "name": "stdout",
     "output_type": "stream",
     "text": [
      "Patient 1 arrives at ED at time 0\n",
      "Patient 2 arrives at ED at time 15\n",
      "Patient 3 arrives at ED at time 30\n",
      "Patient 4 arrives at ED at time 45\n",
      "Patient 5 arrives at ED at time 60\n",
      "Patient 6 arrives at ED at time 75\n",
      "Patient 4 leaves at ED at time 87\n",
      "Patient 7 arrives at ED at time 90\n",
      "Patient 5 leaves at ED at time 90\n",
      "Patient 2 leaves at ED at time 97\n",
      "Patient 8 arrives at ED at time 105\n",
      "Patient 1 leaves at ED at time 106\n",
      "Patient 9 arrives at ED at time 120\n",
      "Patient 7 leaves at ED at time 125\n",
      "Patient 3 leaves at ED at time 131\n",
      "Patient 10 arrives at ED at time 135\n",
      "Patient 11 arrives at ED at time 150\n",
      "Patient 8 leaves at ED at time 154\n",
      "Patient 12 arrives at ED at time 165\n",
      "Patient 9 leaves at ED at time 167\n",
      "Patient 13 arrives at ED at time 180\n",
      "Patient 10 leaves at ED at time 183\n",
      "Patient 6 leaves at ED at time 185\n",
      "Patient 11 leaves at ED at time 186\n",
      "Patient 14 arrives at ED at time 195\n",
      "Patient 12 leaves at ED at time 203\n",
      "Patient 15 arrives at ED at time 210\n",
      "Patient 16 arrives at ED at time 225\n",
      "Patient 13 leaves at ED at time 239\n",
      "Patient 17 arrives at ED at time 240\n",
      "Patient 18 arrives at ED at time 255\n",
      "Patient 15 leaves at ED at time 263\n",
      "Patient 19 arrives at ED at time 270\n",
      "Patient 14 leaves at ED at time 272\n",
      "Patient 20 arrives at ED at time 285\n",
      "Patient 21 arrives at ED at time 300\n",
      "Patient 17 leaves at ED at time 301\n",
      "Patient 16 leaves at ED at time 305\n",
      "Patient 22 arrives at ED at time 315\n",
      "Patient 23 arrives at ED at time 330\n",
      "Patient 24 arrives at ED at time 345\n"
     ]
    }
   ],
   "source": [
    "main()"
   ]
  }
 ],
 "metadata": {
  "kernelspec": {
   "display_name": "Python 3",
   "language": "python",
   "name": "python3"
  },
  "language_info": {
   "codemirror_mode": {
    "name": "ipython",
    "version": 3
   },
   "file_extension": ".py",
   "mimetype": "text/x-python",
   "name": "python",
   "nbconvert_exporter": "python",
   "pygments_lexer": "ipython3",
   "version": "3.7.6"
  }
 },
 "nbformat": 4,
 "nbformat_minor": 4
}
